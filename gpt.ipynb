{
 "cells": [
  {
   "cell_type": "code",
   "execution_count": null,
   "metadata": {},
   "outputs": [],
   "source": [
    "!pip install torch\n",
    "!pip install numpy\n",
    "!pip install tiktoken\n"
   ]
  },
  {
   "cell_type": "code",
   "execution_count": null,
   "metadata": {},
   "outputs": [],
   "source": [
    "import pandas as pd\n",
    "import re\n",
    "import torch\n",
    "import tiktoken\n",
    "\n",
    "import util\n",
    "import bigram"
   ]
  },
  {
   "cell_type": "code",
   "execution_count": null,
   "metadata": {},
   "outputs": [],
   "source": [
    "with open('Conversation.csv', 'r', encoding = 'utf-8') as f: \n",
    "    text= f.read()\n",
    "\n",
    "print(f\"length of dataset in characters: {len(text)}\")\n",
    "\n",
    "print(text[:1000])"
   ]
  },
  {
   "cell_type": "markdown",
   "metadata": {},
   "source": [
    "Filtering Dataset"
   ]
  },
  {
   "cell_type": "code",
   "execution_count": null,
   "metadata": {},
   "outputs": [],
   "source": [
    "question_answer_text = re.split(r'(?<! ),(?! )' , text )\n",
    "\n",
    "lines = text.split('\\n')\n",
    "\n",
    "text = \"\"\n",
    "for line in lines:\n",
    "    parts = line.split(',')\n",
    "    if len(parts) >= 3:  # Ensure at least 3 parts exist before accessing indices\n",
    "        question = parts[1].strip('\"')\n",
    "        answer = parts[2].strip('\"')\n",
    "        text += f\"Question: {question}\\nAnswer: {answer}\\n\\n\"\n",
    "\n",
    "print(text)\n",
    "\n",
    "chars = sorted(list(set(text)))\n",
    "vocab_size = len(chars)\n",
    "print(''.join(chars))\n",
    "print(vocab_size)"
   ]
  },
  {
   "cell_type": "code",
   "execution_count": null,
   "metadata": {},
   "outputs": [],
   "source": [
    "char_to_int = {c: i for i , c in enumerate(chars)}\n",
    "int_to_char = {i: c for i , c in enumerate(chars)}\n",
    "\n",
    "decode_text = lambda l: ''.join([int_to_char[i] for i in l]) # decodes a list of integers as a string.  \n",
    "encode_text = lambda str: [char_to_int[c] for c in str] # encodes a string into a list of integers\n",
    "\n",
    "print(encode_text(\"hi there\"))\n",
    "print(decode_text(encode_text(\"hi there\")))"
   ]
  },
  {
   "cell_type": "code",
   "execution_count": null,
   "metadata": {},
   "outputs": [],
   "source": [
    "data = torch.tensor(encode_text(text), dtype=torch.long)\n",
    "print(data.shape, data.dtype)\n",
    "print(data[:1000])"
   ]
  },
  {
   "cell_type": "code",
   "execution_count": null,
   "metadata": {},
   "outputs": [],
   "source": [
    "data = torch.tensor(encode_text(text), dtype=torch.long)\n",
    "\n",
    "#split data into training, validation, and test sets\n",
    "train= int(0.8 * len(data))\n",
    "val = int(0.9 * len(data))\n",
    "train_data = data[:train]\n",
    "val_data = data[train:val]\n",
    "test_data = data[val:]\n",
    "\n",
    "# print(train_data)"
   ]
  },
  {
   "cell_type": "code",
   "execution_count": null,
   "metadata": {},
   "outputs": [],
   "source": [
    "block_size = 8\n",
    "train_data[:block_size]"
   ]
  },
  {
   "cell_type": "code",
   "execution_count": null,
   "metadata": {},
   "outputs": [],
   "source": [
    "import utili\n",
    "torch.manual_seed(utili.MANUAL_SEED)\n",
    "\n",
    "batch_size = 4\n",
    "block_size = 8\n",
    "\n",
    "def get_batch(split):\n",
    "  if split == 'train':\n",
    "    data = train_data\n",
    "  elif split == 'val':\n",
    "    data = val_data\n",
    "  else:\n",
    "    data = test_data  \n",
    "\n",
    "  idx = torch.randint(len(data) - block_size, (batch_size,))\n",
    "  x = torch.stack([data[i:i+block_size] for i in idx])\n",
    "  y = torch.stack([data[i+1:i+block_size+1] for i in idx])\n",
    "  return x, y\n",
    "\n",
    "xb, yb = get_batch('train')\n",
    "\n",
    "print('context:', xb.shape, xb)\n",
    "print('target:', yb.shape, yb)\n",
    "\n",
    "for b in range(batch_size): \n",
    "    for t in range(block_size):\n",
    "        context = xb[b, :t+1]\n",
    "        target = yb[b,t]\n",
    "        print(f\"context: {context.tolist()}, target: {target}\")"
   ]
  },
  {
   "cell_type": "code",
   "execution_count": null,
   "metadata": {},
   "outputs": [],
   "source": []
  }
 ],
 "metadata": {
  "kernelspec": {
   "display_name": "4700",
   "language": "python",
   "name": "python3"
  },
  "language_info": {
   "codemirror_mode": {
    "name": "ipython",
    "version": 3
   },
   "file_extension": ".py",
   "mimetype": "text/x-python",
   "name": "python",
   "nbconvert_exporter": "python",
   "pygments_lexer": "ipython3",
   "version": "3.10.13"
  }
 },
 "nbformat": 4,
 "nbformat_minor": 2
}
